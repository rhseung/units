{
 "cells": [
  {
   "cell_type": "code",
   "execution_count": 1,
   "outputs": [],
   "source": [
    "from units import *\n",
    "from numpy import array"
   ],
   "metadata": {
    "collapsed": false,
    "ExecuteTime": {
     "end_time": "2023-10-27T12:49:12.405984Z",
     "start_time": "2023-10-27T12:49:12.297266600Z"
    }
   },
   "id": "415e5be413357386"
  },
  {
   "cell_type": "code",
   "execution_count": 2,
   "outputs": [
    {
     "data": {
      "text/plain": "T",
      "text/latex": "$\\mathrm {T}$"
     },
     "execution_count": 2,
     "metadata": {},
     "output_type": "execute_result"
    }
   ],
   "source": [
    "T"
   ],
   "metadata": {
    "collapsed": false,
    "ExecuteTime": {
     "end_time": "2023-10-27T12:49:12.419570700Z",
     "start_time": "2023-10-27T12:49:12.411620Z"
    }
   },
   "id": "d39c60bee549087"
  },
  {
   "cell_type": "code",
   "execution_count": 3,
   "outputs": [
    {
     "data": {
      "text/plain": "Wb/m**2",
      "text/latex": "$\\mathrm {Wb/m^2}$"
     },
     "execution_count": 3,
     "metadata": {},
     "output_type": "execute_result"
    }
   ],
   "source": [
    "expand(T)"
   ],
   "metadata": {
    "collapsed": false,
    "ExecuteTime": {
     "end_time": "2023-10-27T12:49:12.430215800Z",
     "start_time": "2023-10-27T12:49:12.417747500Z"
    }
   },
   "id": "5625ef36da742b8"
  },
  {
   "cell_type": "code",
   "execution_count": 4,
   "outputs": [
    {
     "data": {
      "text/plain": "kg*m**2/A**2*s**3",
      "text/latex": "$\\mathrm {kg \\cdot m^2/A^2 \\cdot s^3}$"
     },
     "execution_count": 4,
     "metadata": {},
     "output_type": "execute_result"
    }
   ],
   "source": [
    "si(Ω)"
   ],
   "metadata": {
    "collapsed": false,
    "ExecuteTime": {
     "end_time": "2023-10-27T12:49:12.430215800Z",
     "start_time": "2023-10-27T12:49:12.422636300Z"
    }
   },
   "id": "c2225fc8a21b2a2f"
  },
  {
   "cell_type": "code",
   "execution_count": 5,
   "outputs": [
    {
     "data": {
      "text/plain": "J",
      "text/latex": "$\\mathrm {J}$"
     },
     "execution_count": 5,
     "metadata": {},
     "output_type": "execute_result"
    }
   ],
   "source": [
    "J"
   ],
   "metadata": {
    "collapsed": false,
    "ExecuteTime": {
     "end_time": "2023-10-27T12:49:12.464509100Z",
     "start_time": "2023-10-27T12:49:12.433725700Z"
    }
   },
   "id": "33ad3b5cdf244c32"
  },
  {
   "cell_type": "code",
   "execution_count": 6,
   "outputs": [
    {
     "data": {
      "text/plain": "N*m",
      "text/latex": "$\\mathrm {N \\cdot m}$"
     },
     "execution_count": 6,
     "metadata": {},
     "output_type": "execute_result"
    }
   ],
   "source": [
    "expand(J)"
   ],
   "metadata": {
    "collapsed": false,
    "ExecuteTime": {
     "end_time": "2023-10-27T12:49:12.465727100Z",
     "start_time": "2023-10-27T12:49:12.439451300Z"
    }
   },
   "id": "b3ed05e173bc4cae"
  },
  {
   "cell_type": "code",
   "execution_count": 7,
   "outputs": [
    {
     "data": {
      "text/plain": "kg*m**2/s**2",
      "text/latex": "$\\mathrm {kg \\cdot m^2/s^2}$"
     },
     "execution_count": 7,
     "metadata": {},
     "output_type": "execute_result"
    }
   ],
   "source": [
    "si(J)"
   ],
   "metadata": {
    "collapsed": false,
    "ExecuteTime": {
     "end_time": "2023-10-27T12:49:12.466230900Z",
     "start_time": "2023-10-27T12:49:12.447135300Z"
    }
   },
   "id": "bbb195487956ce36"
  },
  {
   "cell_type": "code",
   "execution_count": 8,
   "outputs": [
    {
     "data": {
      "text/plain": "(4.7, 6) [dimensionless]",
      "text/latex": "$\\mathrm {(4.7,\\,6)}$"
     },
     "execution_count": 8,
     "metadata": {},
     "output_type": "execute_result"
    }
   ],
   "source": [
    "(3.7, 4)*J/J + (1, 2)"
   ],
   "metadata": {
    "collapsed": false,
    "ExecuteTime": {
     "end_time": "2023-10-27T12:49:12.466230900Z",
     "start_time": "2023-10-27T12:49:12.454737100Z"
    }
   },
   "id": "338c569c474dff5c"
  },
  {
   "cell_type": "code",
   "execution_count": 9,
   "outputs": [
    {
     "data": {
      "text/plain": "m with scale 1000.0",
      "text/latex": "$\\mathrm {1000 \\;\\, m}$"
     },
     "execution_count": 9,
     "metadata": {},
     "output_type": "execute_result"
    }
   ],
   "source": [
    "expand(km)"
   ],
   "metadata": {
    "collapsed": false,
    "ExecuteTime": {
     "end_time": "2023-10-27T12:49:12.469711600Z",
     "start_time": "2023-10-27T12:49:12.463318900Z"
    }
   },
   "id": "e9ba92e969b0d8cf"
  },
  {
   "cell_type": "code",
   "execution_count": 10,
   "outputs": [
    {
     "data": {
      "text/plain": "m with scale 1e-24",
      "text/latex": "$\\mathrm {10^{-24} \\;\\, m}$"
     },
     "execution_count": 10,
     "metadata": {},
     "output_type": "execute_result"
    }
   ],
   "source": [
    "si(ym)"
   ],
   "metadata": {
    "collapsed": false,
    "ExecuteTime": {
     "end_time": "2023-10-27T12:49:12.482474800Z",
     "start_time": "2023-10-27T12:49:12.469711600Z"
    }
   },
   "id": "448b3cbd119d0f44"
  },
  {
   "cell_type": "code",
   "execution_count": 11,
   "outputs": [
    {
     "data": {
      "text/plain": "dimensionless with scale 1e-24",
      "text/latex": "$\\mathrm {10^{-24}}$"
     },
     "execution_count": 11,
     "metadata": {},
     "output_type": "execute_result"
    }
   ],
   "source": [
    "y"
   ],
   "metadata": {
    "collapsed": false,
    "ExecuteTime": {
     "end_time": "2023-10-27T12:49:12.483427700Z",
     "start_time": "2023-10-27T12:49:12.474794600Z"
    }
   },
   "id": "9a6a2388162abe2f"
  },
  {
   "cell_type": "code",
   "execution_count": 15,
   "outputs": [
    {
     "data": {
      "text/plain": "1e-24 [dimensionless]",
      "text/latex": "$\\mathrm {10^{-24}}$"
     },
     "execution_count": 15,
     "metadata": {},
     "output_type": "execute_result"
    }
   ],
   "source": [
    "y1 = 1*y\n",
    "y1"
   ],
   "metadata": {
    "collapsed": false,
    "ExecuteTime": {
     "end_time": "2023-10-27T12:49:42.910831600Z",
     "start_time": "2023-10-27T12:49:42.900678700Z"
    }
   },
   "id": "6a7658d4dc635a7e"
  },
  {
   "cell_type": "code",
   "execution_count": 16,
   "outputs": [
    {
     "data": {
      "text/plain": "-1e-24 [dimensionless]",
      "text/latex": "$\\mathrm {-10^{-24}}$"
     },
     "execution_count": 16,
     "metadata": {},
     "output_type": "execute_result"
    }
   ],
   "source": [
    "-y1"
   ],
   "metadata": {
    "collapsed": false,
    "ExecuteTime": {
     "end_time": "2023-10-27T12:49:45.153600600Z",
     "start_time": "2023-10-27T12:49:45.142884700Z"
    }
   },
   "id": "d503101a058e2f8d"
  },
  {
   "cell_type": "code",
   "execution_count": 17,
   "outputs": [
    {
     "data": {
      "text/plain": "m with scale 1e-24",
      "text/latex": "$\\mathrm {10^{-24} \\;\\, m}$"
     },
     "execution_count": 17,
     "metadata": {},
     "output_type": "execute_result"
    }
   ],
   "source": [
    "y*m"
   ],
   "metadata": {
    "collapsed": false,
    "ExecuteTime": {
     "end_time": "2023-10-27T12:49:56.941587700Z",
     "start_time": "2023-10-27T12:49:56.927269500Z"
    }
   },
   "id": "304f2ddeaeb8e7d8"
  },
  {
   "cell_type": "code",
   "execution_count": null,
   "outputs": [],
   "source": [],
   "metadata": {
    "collapsed": false
   },
   "id": "b8a541830f37f55d"
  }
 ],
 "metadata": {
  "kernelspec": {
   "display_name": "Python 3",
   "language": "python",
   "name": "python3"
  },
  "language_info": {
   "codemirror_mode": {
    "name": "ipython",
    "version": 3
   },
   "file_extension": ".py",
   "mimetype": "text/x-python",
   "name": "python",
   "nbconvert_exporter": "python",
   "pygments_lexer": "ipython3",
   "version": "3.11.6"
  }
 },
 "nbformat": 4,
 "nbformat_minor": 5
}
