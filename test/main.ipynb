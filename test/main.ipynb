{
 "cells": [
  {
   "cell_type": "code",
   "execution_count": 1,
   "outputs": [],
   "source": [
    "from units import *"
   ],
   "metadata": {
    "collapsed": false,
    "ExecuteTime": {
     "end_time": "2023-10-26T14:28:32.241756600Z",
     "start_time": "2023-10-26T14:28:32.102235600Z"
    }
   },
   "id": "415e5be413357386"
  },
  {
   "cell_type": "code",
   "execution_count": 2,
   "id": "2539ed42",
   "metadata": {
    "ExecuteTime": {
     "end_time": "2023-10-26T14:28:35.957676100Z",
     "start_time": "2023-10-26T14:28:35.952370100Z"
    }
   },
   "outputs": [
    {
     "data": {
      "text/plain": "(1.0, 2.0, 3.3, 4.3, 5.0, 6.0)",
      "text/latex": "$\\begin{pmatrix} 1\\\\2\\\\3.3\\\\4.3\\\\5\\\\6 \\end{pmatrix}$"
     },
     "execution_count": 2,
     "metadata": {},
     "output_type": "execute_result"
    }
   ],
   "source": [
    "Vector(1, 2, 3.3, 4.3, 5, 6)"
   ]
  },
  {
   "cell_type": "code",
   "execution_count": 5,
   "id": "fae8093f",
   "metadata": {
    "ExecuteTime": {
     "end_time": "2023-10-26T14:28:51.560492300Z",
     "start_time": "2023-10-26T14:28:51.545242100Z"
    }
   },
   "outputs": [
    {
     "data": {
      "text/plain": "kg*m/s**2",
      "text/latex": "$\\mathrm {kg \\cdot m/s^2}$"
     },
     "execution_count": 5,
     "metadata": {},
     "output_type": "execute_result"
    }
   ],
   "source": [
    "kg/s**2*m"
   ]
  },
  {
   "cell_type": "code",
   "execution_count": 6,
   "outputs": [
    {
     "name": "stdout",
     "output_type": "stream",
     "text": [
      "3 [kg*m]\n"
     ]
    }
   ],
   "source": [
    "print(3*kg*m)"
   ],
   "metadata": {
    "collapsed": false,
    "ExecuteTime": {
     "end_time": "2023-10-26T14:29:03.958511500Z",
     "start_time": "2023-10-26T14:29:03.952720100Z"
    }
   },
   "id": "31561be208a8c302"
  },
  {
   "cell_type": "code",
   "execution_count": 7,
   "outputs": [
    {
     "name": "stdout",
     "output_type": "stream",
     "text": [
      "3 [kg*m]\n"
     ]
    }
   ],
   "source": [
    "print(3*m*kg)"
   ],
   "metadata": {
    "collapsed": false,
    "ExecuteTime": {
     "end_time": "2023-10-26T14:29:06.669504Z",
     "start_time": "2023-10-26T14:29:06.662923600Z"
    }
   },
   "id": "25c8518425f96289"
  },
  {
   "cell_type": "code",
   "execution_count": 13,
   "id": "16e2db9b",
   "metadata": {
    "ExecuteTime": {
     "end_time": "2023-10-26T14:31:19.123797500Z",
     "start_time": "2023-10-26T14:31:19.109530Z"
    }
   },
   "outputs": [
    {
     "data": {
      "text/plain": "3.0 [kg*m/s**2]",
      "text/latex": "$\\mathrm {3 \\;\\, kg \\cdot m/s^2}$"
     },
     "metadata": {},
     "output_type": "display_data"
    },
    {
     "data": {
      "text/plain": "4.5 [N]",
      "text/latex": "$\\mathrm {4.5 \\;\\, N}$"
     },
     "metadata": {},
     "output_type": "display_data"
    },
    {
     "data": {
      "text/plain": "(1+3j) [Ω]",
      "text/latex": "$\\mathrm {(1 + 3 \\textit{i}) \\;\\, Ω}$"
     },
     "metadata": {},
     "output_type": "display_data"
    },
    {
     "data": {
      "text/plain": "(1.0, 5.0, -7.2) [m/s]",
      "text/latex": "$\\mathrm {(1,\\,5,\\,-7.2) \\;\\, m/s}$"
     },
     "metadata": {},
     "output_type": "display_data"
    },
    {
     "data": {
      "text/plain": "3j [Ω]",
      "text/latex": "$\\mathrm {3 \\textit{i} \\;\\, Ω}$"
     },
     "metadata": {},
     "output_type": "display_data"
    },
    {
     "data": {
      "text/plain": "(4+0j) [Ω]",
      "text/latex": "$\\mathrm {4 \\;\\, Ω}$"
     },
     "metadata": {},
     "output_type": "display_data"
    },
    {
     "data": {
      "text/plain": "0j [Ω]",
      "text/latex": "$\\mathrm {0 \\;\\, Ω}$"
     },
     "metadata": {},
     "output_type": "display_data"
    },
    {
     "data": {
      "text/plain": "0 [J*s]",
      "text/latex": "$\\mathrm {0 \\;\\, J \\cdot s}$"
     },
     "metadata": {},
     "output_type": "display_data"
    }
   ],
   "source": [
    "display(3*kg*m/s**2)\n",
    "display(4.5*N)\n",
    "display((1+3j)*Ω)\n",
    "display((1, 5, -7.2)*m/s)\n",
    "display(3j*Ω)\n",
    "display((4+0.0j)*Ω)\n",
    "display((0+0.0j)*Ω)\n",
    "display(0*J*s)"
   ]
  },
  {
   "cell_type": "code",
   "execution_count": null,
   "outputs": [],
   "source": [],
   "metadata": {
    "collapsed": false
   },
   "id": "6b9fe245551dca2c"
  }
 ],
 "metadata": {
  "kernelspec": {
   "display_name": "Python 3",
   "language": "python",
   "name": "python3"
  },
  "language_info": {
   "codemirror_mode": {
    "name": "ipython",
    "version": 3
   },
   "file_extension": ".py",
   "mimetype": "text/x-python",
   "name": "python",
   "nbconvert_exporter": "python",
   "pygments_lexer": "ipython3",
   "version": "3.11.6"
  }
 },
 "nbformat": 4,
 "nbformat_minor": 5
}
