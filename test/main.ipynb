{
 "cells": [
  {
   "cell_type": "code",
   "execution_count": 1,
   "id": "initial_id",
   "metadata": {
    "collapsed": true,
    "ExecuteTime": {
     "end_time": "2023-10-18T11:23:32.342694400Z",
     "start_time": "2023-10-18T11:23:32.319303Z"
    }
   },
   "outputs": [],
   "source": [
    "from units import *"
   ]
  },
  {
   "cell_type": "code",
   "execution_count": 7,
   "outputs": [
    {
     "data": {
      "text/plain": "(1, 2)",
      "text/latex": "$\\begin{bmatrix}1\\\\2\\end{bmatrix}$"
     },
     "execution_count": 7,
     "metadata": {},
     "output_type": "execute_result"
    }
   ],
   "source": [
    "Vector(1, 2)"
   ],
   "metadata": {
    "collapsed": false,
    "ExecuteTime": {
     "end_time": "2023-10-18T11:24:07.654776300Z",
     "start_time": "2023-10-18T11:24:07.646603800Z"
    }
   },
   "id": "8fb29bbbbfe12887"
  },
  {
   "cell_type": "markdown",
   "source": [
    "$\\begin{bmatrix}1\\\\2\\end{bmatrix}$"
   ],
   "metadata": {
    "collapsed": false
   },
   "id": "b47921532e9af178"
  },
  {
   "cell_type": "code",
   "execution_count": null,
   "outputs": [],
   "source": [],
   "metadata": {
    "collapsed": false
   },
   "id": "ac6bce3d56008ff3"
  }
 ],
 "metadata": {
  "kernelspec": {
   "display_name": "Python 3",
   "language": "python",
   "name": "python3"
  },
  "language_info": {
   "codemirror_mode": {
    "name": "ipython",
    "version": 2
   },
   "file_extension": ".py",
   "mimetype": "text/x-python",
   "name": "python",
   "nbconvert_exporter": "python",
   "pygments_lexer": "ipython2",
   "version": "2.7.6"
  }
 },
 "nbformat": 4,
 "nbformat_minor": 5
}
