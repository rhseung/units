{
 "cells": [
  {
   "cell_type": "code",
   "execution_count": 1,
   "outputs": [],
   "source": [
    "from units import *"
   ],
   "metadata": {
    "collapsed": false,
    "ExecuteTime": {
     "end_time": "2023-10-27T03:29:44.891881400Z",
     "start_time": "2023-10-27T03:29:44.660530Z"
    }
   },
   "id": "415e5be413357386"
  },
  {
   "cell_type": "code",
   "execution_count": 2,
   "id": "2539ed42",
   "metadata": {
    "ExecuteTime": {
     "end_time": "2023-10-27T03:29:44.891881400Z",
     "start_time": "2023-10-27T03:29:44.809166200Z"
    }
   },
   "outputs": [
    {
     "data": {
      "text/plain": "(1.0, 2.0, 3.3, 4.3, 5.0, 6.0)",
      "text/latex": "$\\begin{pmatrix} 1\\\\2\\\\3.3\\\\4.3\\\\5\\\\6 \\end{pmatrix}$"
     },
     "execution_count": 2,
     "metadata": {},
     "output_type": "execute_result"
    }
   ],
   "source": [
    "Vector(1, 2, 3.3, 4.3, 5, 6)"
   ]
  },
  {
   "cell_type": "code",
   "execution_count": 3,
   "id": "fae8093f",
   "metadata": {
    "ExecuteTime": {
     "end_time": "2023-10-27T03:29:44.893040900Z",
     "start_time": "2023-10-27T03:29:44.817219500Z"
    }
   },
   "outputs": [
    {
     "data": {
      "text/plain": "kg*m/s**2",
      "text/latex": "$\\mathrm {kg \\cdot m/s^2}$"
     },
     "execution_count": 3,
     "metadata": {},
     "output_type": "execute_result"
    }
   ],
   "source": [
    "kg/s**2*m"
   ]
  },
  {
   "cell_type": "code",
   "execution_count": 4,
   "outputs": [
    {
     "data": {
      "text/plain": "3 [kg*m]",
      "text/latex": "$\\mathrm {3 \\;\\, kg \\cdot m}$"
     },
     "execution_count": 4,
     "metadata": {},
     "output_type": "execute_result"
    }
   ],
   "source": [
    "3*kg*m"
   ],
   "metadata": {
    "collapsed": false,
    "ExecuteTime": {
     "end_time": "2023-10-27T03:29:44.895380800Z",
     "start_time": "2023-10-27T03:29:44.828987800Z"
    }
   },
   "id": "31561be208a8c302"
  },
  {
   "cell_type": "code",
   "execution_count": 5,
   "outputs": [
    {
     "data": {
      "text/plain": "3 [kg*m]",
      "text/latex": "$\\mathrm {3 \\;\\, kg \\cdot m}$"
     },
     "execution_count": 5,
     "metadata": {},
     "output_type": "execute_result"
    }
   ],
   "source": [
    "3*m*kg"
   ],
   "metadata": {
    "collapsed": false,
    "ExecuteTime": {
     "end_time": "2023-10-27T03:29:44.895380800Z",
     "start_time": "2023-10-27T03:29:44.839086500Z"
    }
   },
   "id": "25c8518425f96289"
  },
  {
   "cell_type": "code",
   "execution_count": 6,
   "id": "16e2db9b",
   "metadata": {
    "ExecuteTime": {
     "end_time": "2023-10-27T03:29:44.895380800Z",
     "start_time": "2023-10-27T03:29:44.845417400Z"
    }
   },
   "outputs": [
    {
     "data": {
      "text/plain": "3.0 [kg*m/s**2]",
      "text/latex": "$\\mathrm {3 \\;\\, kg \\cdot m/s^2}$"
     },
     "metadata": {},
     "output_type": "display_data"
    },
    {
     "data": {
      "text/plain": "4.5 [N]",
      "text/latex": "$\\mathrm {4.5 \\;\\, N}$"
     },
     "metadata": {},
     "output_type": "display_data"
    },
    {
     "data": {
      "text/plain": "(1+3j) [Ω]",
      "text/latex": "$\\mathrm {(1 + 3 \\textit{i}) \\;\\, Ω}$"
     },
     "metadata": {},
     "output_type": "display_data"
    },
    {
     "data": {
      "text/plain": "(1.0, 5.0, -7.2) [m/s]",
      "text/latex": "$\\mathrm {(1,\\,5,\\,-7.2) \\;\\, m/s}$"
     },
     "metadata": {},
     "output_type": "display_data"
    },
    {
     "data": {
      "text/plain": "3j [Ω]",
      "text/latex": "$\\mathrm {3 \\textit{i} \\;\\, Ω}$"
     },
     "metadata": {},
     "output_type": "display_data"
    },
    {
     "data": {
      "text/plain": "(4+0j) [Ω]",
      "text/latex": "$\\mathrm {4 \\;\\, Ω}$"
     },
     "metadata": {},
     "output_type": "display_data"
    },
    {
     "data": {
      "text/plain": "0j [Ω]",
      "text/latex": "$\\mathrm {0 \\;\\, Ω}$"
     },
     "metadata": {},
     "output_type": "display_data"
    },
    {
     "data": {
      "text/plain": "0 [J*s]",
      "text/latex": "$\\mathrm {0 \\;\\, J \\cdot s}$"
     },
     "metadata": {},
     "output_type": "display_data"
    }
   ],
   "source": [
    "display(3*kg*m/s**2)\n",
    "display(4.5*N)\n",
    "display((1+3j)*Ω)\n",
    "display((1, 5, -7.2)*m/s)\n",
    "display(3j*Ω)\n",
    "display((4+0.0j)*Ω)\n",
    "display((0+0.0j)*Ω)\n",
    "display(0*J*s)"
   ]
  },
  {
   "cell_type": "code",
   "execution_count": 7,
   "outputs": [
    {
     "data": {
      "text/plain": "6.62607015e-34 [J*s]",
      "text/latex": "$\\mathrm {6.62607015 \\times 10^{-34} \\;\\, J \\cdot s}$"
     },
     "execution_count": 7,
     "metadata": {},
     "output_type": "execute_result"
    }
   ],
   "source": [
    "6.62607015E-34*J*s"
   ],
   "metadata": {
    "collapsed": false,
    "ExecuteTime": {
     "end_time": "2023-10-27T03:29:44.919062600Z",
     "start_time": "2023-10-27T03:29:44.864828900Z"
    }
   },
   "id": "6b9fe245551dca2c"
  },
  {
   "cell_type": "code",
   "execution_count": 8,
   "outputs": [],
   "source": [
    "h=6.62607015E-34*J*s"
   ],
   "metadata": {
    "collapsed": false,
    "ExecuteTime": {
     "end_time": "2023-10-27T03:29:44.919062600Z",
     "start_time": "2023-10-27T03:29:44.869180300Z"
    }
   },
   "id": "7fb171efdbf3226b"
  },
  {
   "cell_type": "code",
   "execution_count": 9,
   "outputs": [
    {
     "data": {
      "text/plain": "6.62607015e-34 [J*s]",
      "text/latex": "$\\mathrm {6.62607015 \\times 10^{-34} \\;\\, J \\cdot s}$"
     },
     "execution_count": 9,
     "metadata": {},
     "output_type": "execute_result"
    }
   ],
   "source": [
    "h"
   ],
   "metadata": {
    "collapsed": false,
    "ExecuteTime": {
     "end_time": "2023-10-27T03:29:44.919062600Z",
     "start_time": "2023-10-27T03:29:44.875493900Z"
    }
   },
   "id": "87c47fd1ddcae95e"
  },
  {
   "cell_type": "code",
   "execution_count": 10,
   "outputs": [
    {
     "data": {
      "text/plain": "1.0545718176762982e-34 [J*s]",
      "text/latex": "$\\mathrm {1.0545718176762982 \\times 10^{-34} \\;\\, J \\cdot s}$"
     },
     "execution_count": 10,
     "metadata": {},
     "output_type": "execute_result"
    }
   ],
   "source": [
    "h/(2*3.1415926535)"
   ],
   "metadata": {
    "collapsed": false,
    "ExecuteTime": {
     "end_time": "2023-10-27T03:29:44.919062600Z",
     "start_time": "2023-10-27T03:29:44.881083700Z"
    }
   },
   "id": "8fd7f83520ead3eb"
  },
  {
   "cell_type": "code",
   "execution_count": 11,
   "outputs": [
    {
     "data": {
      "text/plain": "(6+3j) [Ω]",
      "text/latex": "$\\mathrm {(6 + 3 \\textit{i}) \\;\\, Ω}$"
     },
     "execution_count": 11,
     "metadata": {},
     "output_type": "execute_result"
    }
   ],
   "source": [
    "o1 = (6+3j)*Ω\n",
    "o1"
   ],
   "metadata": {
    "collapsed": false,
    "ExecuteTime": {
     "end_time": "2023-10-27T03:29:44.919062600Z",
     "start_time": "2023-10-27T03:29:44.887127200Z"
    }
   },
   "id": "7041b5ef93ea582c"
  },
  {
   "cell_type": "code",
   "execution_count": 12,
   "outputs": [
    {
     "data": {
      "text/plain": "(6-3j) [Ω]",
      "text/latex": "$\\mathrm {(6 - 3 \\textit{i}) \\;\\, Ω}$"
     },
     "execution_count": 12,
     "metadata": {},
     "output_type": "execute_result"
    }
   ],
   "source": [
    "o2 = (6-3j)*Ω\n",
    "o2"
   ],
   "metadata": {
    "collapsed": false,
    "ExecuteTime": {
     "end_time": "2023-10-27T03:29:44.966965500Z",
     "start_time": "2023-10-27T03:29:44.893040900Z"
    }
   },
   "id": "3d79ef9cd1c6450"
  },
  {
   "cell_type": "code",
   "execution_count": 13,
   "outputs": [
    {
     "data": {
      "text/plain": "(45+0j) [Ω**2]",
      "text/latex": "$\\mathrm {45 \\;\\, Ω^2}$"
     },
     "execution_count": 13,
     "metadata": {},
     "output_type": "execute_result"
    }
   ],
   "source": [
    "o1*o2"
   ],
   "metadata": {
    "collapsed": false,
    "ExecuteTime": {
     "end_time": "2023-10-27T03:29:44.971044600Z",
     "start_time": "2023-10-27T03:29:44.900707800Z"
    }
   },
   "id": "e6bc7ad6bea91fd3"
  },
  {
   "cell_type": "code",
   "execution_count": 14,
   "outputs": [
    {
     "data": {
      "text/plain": "(45+0j) [Ω]",
      "text/latex": "$\\mathrm {45 \\;\\, Ω}$"
     },
     "execution_count": 14,
     "metadata": {},
     "output_type": "execute_result"
    }
   ],
   "source": [
    "o1*o2/Ω"
   ],
   "metadata": {
    "collapsed": false,
    "ExecuteTime": {
     "end_time": "2023-10-27T03:29:44.971044600Z",
     "start_time": "2023-10-27T03:29:44.908276400Z"
    }
   },
   "id": "ee4508f09c59e47e"
  },
  {
   "cell_type": "code",
   "execution_count": 15,
   "outputs": [
    {
     "data": {
      "text/plain": "(45+0j) [dimensionless]",
      "text/latex": "$\\mathrm {45}$"
     },
     "execution_count": 15,
     "metadata": {},
     "output_type": "execute_result"
    }
   ],
   "source": [
    "o1*o2/Ω/Ω"
   ],
   "metadata": {
    "collapsed": false,
    "ExecuteTime": {
     "end_time": "2023-10-27T03:29:45.039234600Z",
     "start_time": "2023-10-27T03:29:44.912959600Z"
    }
   },
   "id": "29e3546fe6c0c472"
  },
  {
   "cell_type": "code",
   "execution_count": 16,
   "outputs": [
    {
     "data": {
      "text/plain": "(45+0j) [dimensionless]",
      "text/latex": "$\\mathrm {45}$"
     },
     "execution_count": 16,
     "metadata": {},
     "output_type": "execute_result"
    }
   ],
   "source": [
    "o1*o2/Ω/Ω"
   ],
   "metadata": {
    "collapsed": false,
    "ExecuteTime": {
     "end_time": "2023-10-27T03:29:45.057108100Z",
     "start_time": "2023-10-27T03:29:44.919062600Z"
    }
   },
   "id": "cb886afba866086c"
  },
  {
   "cell_type": "code",
   "execution_count": 17,
   "outputs": [
    {
     "data": {
      "text/plain": "(2.9817315675e-32+0j) [J*s]",
      "text/latex": "$\\mathrm {2.9817315675 \\times 10^{-32} \\;\\, J \\cdot s}$"
     },
     "execution_count": 17,
     "metadata": {},
     "output_type": "execute_result"
    }
   ],
   "source": [
    "o1*o2/Ω/Ω*h"
   ],
   "metadata": {
    "collapsed": false,
    "ExecuteTime": {
     "end_time": "2023-10-27T03:29:45.057108100Z",
     "start_time": "2023-10-27T03:29:44.927155400Z"
    }
   },
   "id": "a24899642efe0e7f"
  },
  {
   "cell_type": "code",
   "execution_count": 18,
   "outputs": [
    {
     "data": {
      "text/plain": "(6.7913558083896835e+34+0j) [/J*s]",
      "text/latex": "$\\mathrm {67913558083896834714185941072740352 \\;\\, /J \\cdot s}$"
     },
     "execution_count": 18,
     "metadata": {},
     "output_type": "execute_result"
    }
   ],
   "source": [
    "o1*o2/Ω/Ω/h"
   ],
   "metadata": {
    "collapsed": false,
    "ExecuteTime": {
     "end_time": "2023-10-27T03:29:45.057108100Z",
     "start_time": "2023-10-27T03:29:44.933704100Z"
    }
   },
   "id": "de11ca5fb03fb353"
  },
  {
   "cell_type": "code",
   "execution_count": 19,
   "outputs": [
    {
     "data": {
      "text/plain": "37.0 [kV*J*kg/N*m**2*s]",
      "text/latex": "$\\mathrm {37 \\;\\, kV \\cdot J \\cdot kg/N \\cdot m^2 \\cdot s}$"
     },
     "execution_count": 19,
     "metadata": {},
     "output_type": "execute_result"
    }
   ],
   "source": [
    "a=37*kg/m/m/s*J/N*kV\n",
    "a"
   ],
   "metadata": {
    "collapsed": false,
    "ExecuteTime": {
     "end_time": "2023-10-27T03:29:45.057108100Z",
     "start_time": "2023-10-27T03:29:44.939109600Z"
    }
   },
   "id": "7804328f54af0f9c"
  },
  {
   "cell_type": "code",
   "execution_count": 20,
   "outputs": [
    {
     "data": {
      "text/plain": "37000.0 [kg**2*m/A*s**4]",
      "text/latex": "$\\mathrm {37000 \\;\\, kg^2 \\cdot m/A \\cdot s^4}$"
     },
     "execution_count": 20,
     "metadata": {},
     "output_type": "execute_result"
    }
   ],
   "source": [
    "a.si()"
   ],
   "metadata": {
    "collapsed": false,
    "ExecuteTime": {
     "end_time": "2023-10-27T03:29:45.057108100Z",
     "start_time": "2023-10-27T03:29:44.942478100Z"
    }
   },
   "id": "a1c05d116dbbda79"
  },
  {
   "cell_type": "code",
   "execution_count": 21,
   "outputs": [],
   "source": [
    "b=2*Mg/(3*mV)*(3/atm)"
   ],
   "metadata": {
    "collapsed": false,
    "ExecuteTime": {
     "end_time": "2023-10-27T03:29:45.057108100Z",
     "start_time": "2023-10-27T03:29:44.951427600Z"
    }
   },
   "id": "d81855206bcdd878"
  },
  {
   "cell_type": "code",
   "execution_count": 22,
   "outputs": [
    {
     "data": {
      "text/plain": "2.0 [Mg/atm*mV]",
      "text/latex": "$\\mathrm {2 \\;\\, Mg/atm \\cdot mV}$"
     },
     "execution_count": 22,
     "metadata": {},
     "output_type": "execute_result"
    }
   ],
   "source": [
    "b"
   ],
   "metadata": {
    "collapsed": false,
    "ExecuteTime": {
     "end_time": "2023-10-27T03:29:45.057108100Z",
     "start_time": "2023-10-27T03:29:44.954859400Z"
    }
   },
   "id": "ff9b250e86b06f39"
  },
  {
   "cell_type": "code",
   "execution_count": 23,
   "outputs": [
    {
     "data": {
      "text/plain": "19.738465334320257 [A*s**5/kg*m]",
      "text/latex": "$\\mathrm {19.738465334320257 \\;\\, A \\cdot s^5/kg \\cdot m}$"
     },
     "execution_count": 23,
     "metadata": {},
     "output_type": "execute_result"
    }
   ],
   "source": [
    "b.si()"
   ],
   "metadata": {
    "collapsed": false,
    "ExecuteTime": {
     "end_time": "2023-10-27T03:29:45.059825600Z",
     "start_time": "2023-10-27T03:29:44.959461700Z"
    }
   },
   "id": "b1ade22ac37388e2"
  },
  {
   "cell_type": "code",
   "execution_count": 24,
   "outputs": [
    {
     "data": {
      "text/plain": "1.32521403e-33 [Mg*J*s/atm*aF*mV]",
      "text/latex": "$\\mathrm {1.32521403 \\times 10^{-33} \\;\\, Mg \\cdot J \\cdot s/atm \\cdot aF \\cdot mV}$"
     },
     "execution_count": 24,
     "metadata": {},
     "output_type": "execute_result"
    }
   ],
   "source": [
    "b*h/aF"
   ],
   "metadata": {
    "collapsed": false,
    "ExecuteTime": {
     "end_time": "2023-10-27T03:29:45.070179700Z",
     "start_time": "2023-10-27T03:29:44.968510Z"
    }
   },
   "id": "af2f52ceb9de14a9"
  },
  {
   "cell_type": "code",
   "execution_count": 25,
   "outputs": [
    {
     "data": {
      "text/plain": "1.32521403e-33 [Mg*J*s/atm*aF*mV]",
      "text/latex": "$\\mathrm {1.32521403 \\times 10^{-33} \\;\\, Mg \\cdot J \\cdot s/atm \\cdot aF \\cdot mV}$"
     },
     "execution_count": 25,
     "metadata": {},
     "output_type": "execute_result"
    }
   ],
   "source": [
    "b/aF*h"
   ],
   "metadata": {
    "collapsed": false,
    "ExecuteTime": {
     "end_time": "2023-10-27T03:29:45.070179700Z",
     "start_time": "2023-10-27T03:29:44.977069900Z"
    }
   },
   "id": "54751c0ad84da452"
  },
  {
   "cell_type": "code",
   "execution_count": 26,
   "outputs": [
    {
     "ename": "TypeError",
     "evalue": "unsupported operand type(s) for +: 'Quantity' and 'tuple'",
     "output_type": "error",
     "traceback": [
      "\u001B[1;31m---------------------------------------------------------------------------\u001B[0m",
      "\u001B[1;31mTypeError\u001B[0m                                 Traceback (most recent call last)",
      "Cell \u001B[1;32mIn[26], line 1\u001B[0m\n\u001B[1;32m----> 1\u001B[0m c\u001B[38;5;241m=\u001B[39m\u001B[43m(\u001B[49m\u001B[38;5;241;43m1\u001B[39;49m\u001B[43m,\u001B[49m\u001B[38;5;241;43m6\u001B[39;49m\u001B[43m)\u001B[49m\u001B[38;5;241;43m*\u001B[39;49m\u001B[43mb\u001B[49m\u001B[38;5;241;43m/\u001B[39;49m\u001B[43mg\u001B[49m\u001B[38;5;241;43m/\u001B[39;49m\u001B[43ms\u001B[49m\u001B[38;5;241;43m*\u001B[39;49m\u001B[43mYPa\u001B[49m\u001B[38;5;241;43m*\u001B[39;49m\u001B[43mnV\u001B[49m\u001B[38;5;241;43m*\u001B[39;49m\u001B[43mTs\u001B[49m\u001B[38;5;241;43m+\u001B[39;49m\u001B[43m(\u001B[49m\u001B[38;5;241;43m3\u001B[39;49m\u001B[43m,\u001B[49m\u001B[38;5;241;43m6\u001B[39;49m\u001B[38;5;241;43m/\u001B[39;49m\u001B[38;5;241;43m5\u001B[39;49m\u001B[43m)\u001B[49m\n",
      "\u001B[1;31mTypeError\u001B[0m: unsupported operand type(s) for +: 'Quantity' and 'tuple'"
     ]
    }
   ],
   "source": [
    "c=(1,6)*b/g/s*YPa*nV*Ts+(3,6/5)"
   ],
   "metadata": {
    "collapsed": false,
    "ExecuteTime": {
     "end_time": "2023-10-27T03:29:45.265069900Z",
     "start_time": "2023-10-27T03:29:44.983487700Z"
    }
   },
   "id": "1d7c020ba2d29af8"
  },
  {
   "cell_type": "code",
   "execution_count": null,
   "outputs": [],
   "source": [
    "c.si()"
   ],
   "metadata": {
    "collapsed": false,
    "ExecuteTime": {
     "start_time": "2023-10-27T03:29:45.257157600Z"
    }
   },
   "id": "bc83c41aa7be3915"
  },
  {
   "cell_type": "code",
   "execution_count": 27,
   "outputs": [
    {
     "data": {
      "text/plain": "(3e-19, 4e-05) [m/s]",
      "text/latex": "$\\mathrm {(3 \\times 10^{-19},\\,4 \\times 10^{-5}) \\;\\, m/s}$"
     },
     "execution_count": 27,
     "metadata": {},
     "output_type": "execute_result"
    }
   ],
   "source": [
    "(3e-19, 4e-5)*m/s"
   ],
   "metadata": {
    "collapsed": false,
    "ExecuteTime": {
     "end_time": "2023-10-27T03:30:10.009422300Z",
     "start_time": "2023-10-27T03:30:10.000578100Z"
    }
   },
   "id": "2c5284a813ba09ee"
  },
  {
   "cell_type": "code",
   "execution_count": 28,
   "outputs": [
    {
     "data": {
      "text/plain": "(3e-56+2.7e-09j) [m/s**2]",
      "text/latex": "$\\mathrm {(3 \\times 10^{-56} + 2.7 \\times 10^{-9} \\textit{i}) \\;\\, m/s^2}$"
     },
     "execution_count": 28,
     "metadata": {},
     "output_type": "execute_result"
    }
   ],
   "source": [
    "(3e-56+2.7e-9j)*m/s**2"
   ],
   "metadata": {
    "collapsed": false,
    "ExecuteTime": {
     "end_time": "2023-10-27T03:30:10.182303400Z",
     "start_time": "2023-10-27T03:30:10.171487Z"
    }
   },
   "id": "8be8ac0e07a2fd40"
  },
  {
   "cell_type": "code",
   "execution_count": 29,
   "outputs": [
    {
     "data": {
      "text/plain": "4.5j [A]",
      "text/latex": "$\\mathrm {4.5 \\textit{i} \\;\\, A}$"
     },
     "execution_count": 29,
     "metadata": {},
     "output_type": "execute_result"
    }
   ],
   "source": [
    "4.5j*A"
   ],
   "metadata": {
    "collapsed": false,
    "ExecuteTime": {
     "end_time": "2023-10-27T03:30:10.362695800Z",
     "start_time": "2023-10-27T03:30:10.332074200Z"
    }
   },
   "id": "f4822f1f13abcf9a"
  },
  {
   "cell_type": "code",
   "execution_count": 30,
   "outputs": [
    {
     "data": {
      "text/plain": "(3.0, 2.0) [s]",
      "text/latex": "$\\mathrm {(3,\\,2) \\;\\, s}$"
     },
     "execution_count": 30,
     "metadata": {},
     "output_type": "execute_result"
    }
   ],
   "source": [
    "# fixme: 이거 왜이럼\n",
    "(3, 2)*(m/m)/s"
   ],
   "metadata": {
    "collapsed": false,
    "ExecuteTime": {
     "end_time": "2023-10-27T03:30:10.616451400Z",
     "start_time": "2023-10-27T03:30:10.599407Z"
    }
   },
   "id": "7165f7a3a3c6233a"
  },
  {
   "cell_type": "code",
   "execution_count": 32,
   "outputs": [
    {
     "data": {
      "text/plain": "(3.0, 2.0) [/s]",
      "text/latex": "$\\mathrm {(3,\\,2) \\;\\, /s}$"
     },
     "execution_count": 32,
     "metadata": {},
     "output_type": "execute_result"
    }
   ],
   "source": [
    "(3, 2)/s"
   ],
   "metadata": {
    "collapsed": false,
    "ExecuteTime": {
     "end_time": "2023-10-27T03:30:45.289236Z",
     "start_time": "2023-10-27T03:30:45.257081800Z"
    }
   },
   "id": "8445fc5546538746"
  },
  {
   "cell_type": "code",
   "execution_count": null,
   "outputs": [],
   "source": [],
   "metadata": {
    "collapsed": false
   },
   "id": "30821cbf174459e8"
  }
 ],
 "metadata": {
  "kernelspec": {
   "display_name": "Python 3",
   "language": "python",
   "name": "python3"
  },
  "language_info": {
   "codemirror_mode": {
    "name": "ipython",
    "version": 3
   },
   "file_extension": ".py",
   "mimetype": "text/x-python",
   "name": "python",
   "nbconvert_exporter": "python",
   "pygments_lexer": "ipython3",
   "version": "3.11.6"
  }
 },
 "nbformat": 4,
 "nbformat_minor": 5
}
