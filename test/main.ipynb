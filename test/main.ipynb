{
 "cells": [
  {
   "cell_type": "code",
   "execution_count": 1,
   "outputs": [],
   "source": [
    "from units import *\n",
    "from numpy import array"
   ],
   "metadata": {
    "collapsed": false,
    "ExecuteTime": {
     "end_time": "2023-10-27T05:30:18.065624100Z",
     "start_time": "2023-10-27T05:30:17.962154800Z"
    }
   },
   "id": "415e5be413357386"
  },
  {
   "cell_type": "code",
   "execution_count": 2,
   "outputs": [
    {
     "ename": "TypeError",
     "evalue": "unsupported operand type(s) for +: 'Quantity' and 'tuple'",
     "output_type": "error",
     "traceback": [
      "\u001B[1;31m---------------------------------------------------------------------------\u001B[0m",
      "\u001B[1;31mTypeError\u001B[0m                                 Traceback (most recent call last)",
      "Cell \u001B[1;32mIn[2], line 1\u001B[0m\n\u001B[1;32m----> 1\u001B[0m c\u001B[38;5;241m=\u001B[39m\u001B[43m(\u001B[49m\u001B[38;5;241;43m1\u001B[39;49m\u001B[43m,\u001B[49m\u001B[38;5;241;43m6\u001B[39;49m\u001B[43m)\u001B[49m\u001B[38;5;241;43m/\u001B[39;49m\u001B[43mg\u001B[49m\u001B[38;5;241;43m/\u001B[39;49m\u001B[43ms\u001B[49m\u001B[38;5;241;43m*\u001B[39;49m\u001B[43mYPa\u001B[49m\u001B[38;5;241;43m*\u001B[39;49m\u001B[43mnV\u001B[49m\u001B[38;5;241;43m*\u001B[39;49m\u001B[43mTs\u001B[49m\u001B[38;5;241;43m+\u001B[39;49m\u001B[43m(\u001B[49m\u001B[38;5;241;43m3\u001B[39;49m\u001B[43m,\u001B[49m\u001B[38;5;241;43m6\u001B[39;49m\u001B[38;5;241;43m/\u001B[39;49m\u001B[38;5;241;43m5\u001B[39;49m\u001B[43m)\u001B[49m\n",
      "\u001B[1;31mTypeError\u001B[0m: unsupported operand type(s) for +: 'Quantity' and 'tuple'"
     ]
    }
   ],
   "source": [
    "c=(1,6)/g/s*YPa*nV*Ts+(3,6/5)"
   ],
   "metadata": {
    "collapsed": false,
    "ExecuteTime": {
     "end_time": "2023-10-27T05:30:18.477484800Z",
     "start_time": "2023-10-27T05:30:18.073560500Z"
    }
   },
   "id": "1d7c020ba2d29af8"
  },
  {
   "cell_type": "code",
   "execution_count": 3,
   "outputs": [
    {
     "data": {
      "text/plain": "(3.0, 2.0) [/s]",
      "text/latex": "$\\mathrm {(3,\\,2) \\;\\, /s}$"
     },
     "execution_count": 3,
     "metadata": {},
     "output_type": "execute_result"
    }
   ],
   "source": [
    "# fixme: 이거 왜이럼\n",
    "(3, 2)*(m/m)/s"
   ],
   "metadata": {
    "collapsed": false,
    "ExecuteTime": {
     "end_time": "2023-10-27T05:30:22.126480100Z",
     "start_time": "2023-10-27T05:30:22.123350600Z"
    }
   },
   "id": "7165f7a3a3c6233a"
  },
  {
   "cell_type": "code",
   "execution_count": 4,
   "outputs": [
    {
     "data": {
      "text/plain": "(3.0, 2.0) [kg/s]",
      "text/latex": "$\\mathrm {(3,\\,2) \\;\\, kg/s}$"
     },
     "execution_count": 4,
     "metadata": {},
     "output_type": "execute_result"
    }
   ],
   "source": [
    "(3, 2)/s*kg"
   ],
   "metadata": {
    "collapsed": false,
    "ExecuteTime": {
     "end_time": "2023-10-27T05:30:22.639288600Z",
     "start_time": "2023-10-27T05:30:22.636285100Z"
    }
   },
   "id": "8445fc5546538746"
  },
  {
   "cell_type": "code",
   "execution_count": 5,
   "outputs": [
    {
     "data": {
      "text/plain": "s",
      "text/latex": "$\\mathrm {s}$"
     },
     "execution_count": 5,
     "metadata": {},
     "output_type": "execute_result"
    }
   ],
   "source": [
    "a = m/m\n",
    "a*s"
   ],
   "metadata": {
    "collapsed": false,
    "ExecuteTime": {
     "end_time": "2023-10-27T05:30:22.687575200Z",
     "start_time": "2023-10-27T05:30:22.667552700Z"
    }
   },
   "id": "7f1d1aae5c5a7a95"
  },
  {
   "cell_type": "code",
   "execution_count": 6,
   "outputs": [
    {
     "data": {
      "text/plain": "/s",
      "text/latex": "$\\mathrm {/s}$"
     },
     "execution_count": 6,
     "metadata": {},
     "output_type": "execute_result"
    }
   ],
   "source": [
    "s**-1"
   ],
   "metadata": {
    "collapsed": false,
    "ExecuteTime": {
     "end_time": "2023-10-27T05:30:22.747084400Z",
     "start_time": "2023-10-27T05:30:22.714868800Z"
    }
   },
   "id": "f2c77a6f7fcc0abe"
  },
  {
   "cell_type": "code",
   "execution_count": 7,
   "outputs": [
    {
     "data": {
      "text/plain": "[1 [m/s**2], 2 [m/s**2], 3 [m/s**2], 4 [m/s**2]]"
     },
     "execution_count": 7,
     "metadata": {},
     "output_type": "execute_result"
    }
   ],
   "source": [
    "[1, 2, 3, 4] * m/s**2"
   ],
   "metadata": {
    "collapsed": false,
    "ExecuteTime": {
     "end_time": "2023-10-27T05:30:22.781853800Z",
     "start_time": "2023-10-27T05:30:22.748350100Z"
    }
   },
   "id": "30821cbf174459e8"
  },
  {
   "cell_type": "code",
   "execution_count": 8,
   "outputs": [
    {
     "name": "stdout",
     "output_type": "stream",
     "text": [
      "[1.5 [N] 2.3 [N] 4.6 [N] 7.7 [N]]\n"
     ]
    }
   ],
   "source": [
    "print(array([1.5, 2.3, 4.6, 7.7]) * N)"
   ],
   "metadata": {
    "collapsed": false,
    "ExecuteTime": {
     "end_time": "2023-10-27T05:30:22.870032Z",
     "start_time": "2023-10-27T05:30:22.773461900Z"
    }
   },
   "id": "80a808128084fe2c"
  }
 ],
 "metadata": {
  "kernelspec": {
   "display_name": "Python 3",
   "language": "python",
   "name": "python3"
  },
  "language_info": {
   "codemirror_mode": {
    "name": "ipython",
    "version": 3
   },
   "file_extension": ".py",
   "mimetype": "text/x-python",
   "name": "python",
   "nbconvert_exporter": "python",
   "pygments_lexer": "ipython3",
   "version": "3.11.6"
  }
 },
 "nbformat": 4,
 "nbformat_minor": 5
}
